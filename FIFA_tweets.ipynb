{
 "cells": [
  {
   "cell_type": "code",
   "execution_count": 1,
   "id": "a48e4f8f",
   "metadata": {},
   "outputs": [],
   "source": [
    "import pandas as pd\n",
    "import numpy as np\n",
    "import matplotlib.pyplot as plt\n",
    "import seaborn as sns\n",
    "\n",
    "%matplotlib inline"
   ]
  },
  {
   "cell_type": "code",
   "execution_count": 2,
   "id": "5d7d8462",
   "metadata": {},
   "outputs": [],
   "source": [
    "df = pd.read_csv('fifa_world_cup_2022_tweets.csv')"
   ]
  },
  {
   "cell_type": "code",
   "execution_count": 3,
   "id": "6b6b4cb0",
   "metadata": {},
   "outputs": [
    {
     "data": {
      "text/html": [
       "<div>\n",
       "<style scoped>\n",
       "    .dataframe tbody tr th:only-of-type {\n",
       "        vertical-align: middle;\n",
       "    }\n",
       "\n",
       "    .dataframe tbody tr th {\n",
       "        vertical-align: top;\n",
       "    }\n",
       "\n",
       "    .dataframe thead th {\n",
       "        text-align: right;\n",
       "    }\n",
       "</style>\n",
       "<table border=\"1\" class=\"dataframe\">\n",
       "  <thead>\n",
       "    <tr style=\"text-align: right;\">\n",
       "      <th></th>\n",
       "      <th>Unnamed: 0</th>\n",
       "      <th>Date Created</th>\n",
       "      <th>Number of Likes</th>\n",
       "      <th>Source of Tweet</th>\n",
       "      <th>Tweet</th>\n",
       "      <th>Sentiment</th>\n",
       "    </tr>\n",
       "  </thead>\n",
       "  <tbody>\n",
       "    <tr>\n",
       "      <th>0</th>\n",
       "      <td>0</td>\n",
       "      <td>2022-11-20 23:59:21+00:00</td>\n",
       "      <td>4</td>\n",
       "      <td>Twitter Web App</td>\n",
       "      <td>What are we drinking today @TucanTribe \\n@MadB...</td>\n",
       "      <td>neutral</td>\n",
       "    </tr>\n",
       "    <tr>\n",
       "      <th>1</th>\n",
       "      <td>1</td>\n",
       "      <td>2022-11-20 23:59:01+00:00</td>\n",
       "      <td>3</td>\n",
       "      <td>Twitter for iPhone</td>\n",
       "      <td>Amazing @CanadaSoccerEN  #WorldCup2022 launch ...</td>\n",
       "      <td>positive</td>\n",
       "    </tr>\n",
       "    <tr>\n",
       "      <th>2</th>\n",
       "      <td>2</td>\n",
       "      <td>2022-11-20 23:58:41+00:00</td>\n",
       "      <td>1</td>\n",
       "      <td>Twitter for iPhone</td>\n",
       "      <td>Worth reading while watching #WorldCup2022 htt...</td>\n",
       "      <td>positive</td>\n",
       "    </tr>\n",
       "    <tr>\n",
       "      <th>3</th>\n",
       "      <td>3</td>\n",
       "      <td>2022-11-20 23:58:33+00:00</td>\n",
       "      <td>1</td>\n",
       "      <td>Twitter Web App</td>\n",
       "      <td>Golden Maknae shinning bright\\n\\nhttps://t.co/...</td>\n",
       "      <td>positive</td>\n",
       "    </tr>\n",
       "    <tr>\n",
       "      <th>4</th>\n",
       "      <td>4</td>\n",
       "      <td>2022-11-20 23:58:28+00:00</td>\n",
       "      <td>0</td>\n",
       "      <td>Twitter for Android</td>\n",
       "      <td>If the BBC cares so much about human rights, h...</td>\n",
       "      <td>negative</td>\n",
       "    </tr>\n",
       "    <tr>\n",
       "      <th>...</th>\n",
       "      <td>...</td>\n",
       "      <td>...</td>\n",
       "      <td>...</td>\n",
       "      <td>...</td>\n",
       "      <td>...</td>\n",
       "      <td>...</td>\n",
       "    </tr>\n",
       "    <tr>\n",
       "      <th>22519</th>\n",
       "      <td>22519</td>\n",
       "      <td>2022-11-20 00:00:21+00:00</td>\n",
       "      <td>1</td>\n",
       "      <td>Twitter Web App</td>\n",
       "      <td>Here We go World cup 2022 #WorldCup2022</td>\n",
       "      <td>positive</td>\n",
       "    </tr>\n",
       "    <tr>\n",
       "      <th>22520</th>\n",
       "      <td>22520</td>\n",
       "      <td>2022-11-20 00:00:03+00:00</td>\n",
       "      <td>0</td>\n",
       "      <td>DenetPro</td>\n",
       "      <td>Anderlecht confirms former Viborg FF's Jesper ...</td>\n",
       "      <td>neutral</td>\n",
       "    </tr>\n",
       "    <tr>\n",
       "      <th>22521</th>\n",
       "      <td>22521</td>\n",
       "      <td>2022-11-20 00:00:01+00:00</td>\n",
       "      <td>2</td>\n",
       "      <td>Twitter for iPhone</td>\n",
       "      <td>Great thread to read before the start of #Worl...</td>\n",
       "      <td>positive</td>\n",
       "    </tr>\n",
       "    <tr>\n",
       "      <th>22522</th>\n",
       "      <td>22522</td>\n",
       "      <td>2022-11-20 00:00:00+00:00</td>\n",
       "      <td>11</td>\n",
       "      <td>Twitter Web App</td>\n",
       "      <td>Raphinha wants Brazil to be united at the #Wor...</td>\n",
       "      <td>positive</td>\n",
       "    </tr>\n",
       "    <tr>\n",
       "      <th>22523</th>\n",
       "      <td>22523</td>\n",
       "      <td>2022-11-20 00:00:00+00:00</td>\n",
       "      <td>24</td>\n",
       "      <td>Twitter Web App</td>\n",
       "      <td>How to buy $SOT on PinkSale?🤔\\n\\nHave you been...</td>\n",
       "      <td>neutral</td>\n",
       "    </tr>\n",
       "  </tbody>\n",
       "</table>\n",
       "<p>22524 rows × 6 columns</p>\n",
       "</div>"
      ],
      "text/plain": [
       "       Unnamed: 0               Date Created  Number of Likes  \\\n",
       "0               0  2022-11-20 23:59:21+00:00                4   \n",
       "1               1  2022-11-20 23:59:01+00:00                3   \n",
       "2               2  2022-11-20 23:58:41+00:00                1   \n",
       "3               3  2022-11-20 23:58:33+00:00                1   \n",
       "4               4  2022-11-20 23:58:28+00:00                0   \n",
       "...           ...                        ...              ...   \n",
       "22519       22519  2022-11-20 00:00:21+00:00                1   \n",
       "22520       22520  2022-11-20 00:00:03+00:00                0   \n",
       "22521       22521  2022-11-20 00:00:01+00:00                2   \n",
       "22522       22522  2022-11-20 00:00:00+00:00               11   \n",
       "22523       22523  2022-11-20 00:00:00+00:00               24   \n",
       "\n",
       "           Source of Tweet                                              Tweet  \\\n",
       "0          Twitter Web App  What are we drinking today @TucanTribe \\n@MadB...   \n",
       "1       Twitter for iPhone  Amazing @CanadaSoccerEN  #WorldCup2022 launch ...   \n",
       "2       Twitter for iPhone  Worth reading while watching #WorldCup2022 htt...   \n",
       "3          Twitter Web App  Golden Maknae shinning bright\\n\\nhttps://t.co/...   \n",
       "4      Twitter for Android  If the BBC cares so much about human rights, h...   \n",
       "...                    ...                                                ...   \n",
       "22519      Twitter Web App            Here We go World cup 2022 #WorldCup2022   \n",
       "22520             DenetPro  Anderlecht confirms former Viborg FF's Jesper ...   \n",
       "22521   Twitter for iPhone  Great thread to read before the start of #Worl...   \n",
       "22522      Twitter Web App  Raphinha wants Brazil to be united at the #Wor...   \n",
       "22523      Twitter Web App  How to buy $SOT on PinkSale?🤔\\n\\nHave you been...   \n",
       "\n",
       "      Sentiment  \n",
       "0       neutral  \n",
       "1      positive  \n",
       "2      positive  \n",
       "3      positive  \n",
       "4      negative  \n",
       "...         ...  \n",
       "22519  positive  \n",
       "22520   neutral  \n",
       "22521  positive  \n",
       "22522  positive  \n",
       "22523   neutral  \n",
       "\n",
       "[22524 rows x 6 columns]"
      ]
     },
     "execution_count": 3,
     "metadata": {},
     "output_type": "execute_result"
    }
   ],
   "source": [
    "df"
   ]
  },
  {
   "cell_type": "code",
   "execution_count": 4,
   "id": "84dc8975",
   "metadata": {},
   "outputs": [],
   "source": [
    "#Just in case we will drop duplicates\n",
    "df.drop_duplicates(inplace=True)"
   ]
  },
  {
   "cell_type": "code",
   "execution_count": 5,
   "id": "81babd6d",
   "metadata": {},
   "outputs": [
    {
     "data": {
      "text/plain": [
       "Unnamed: 0         0\n",
       "Date Created       0\n",
       "Number of Likes    0\n",
       "Source of Tweet    0\n",
       "Tweet              0\n",
       "Sentiment          0\n",
       "dtype: int64"
      ]
     },
     "execution_count": 5,
     "metadata": {},
     "output_type": "execute_result"
    }
   ],
   "source": [
    "#Checking any null entries\n",
    "df.isnull( ).sum( )"
   ]
  },
  {
   "cell_type": "code",
   "execution_count": 6,
   "id": "fa4cb7cc",
   "metadata": {},
   "outputs": [],
   "source": [
    "df['Date Created'] = pd.to_datetime(df['Date Created'])"
   ]
  },
  {
   "cell_type": "code",
   "execution_count": 7,
   "id": "f148c0bf",
   "metadata": {},
   "outputs": [
    {
     "data": {
      "image/png": "[encoded data removed]",
      "text/plain": [
       "<Figure size 1200x600 with 1 Axes>"
      ]
     },
     "metadata": {},
     "output_type": "display_data"
    }
   ],
   "source": [
    "#Let's get a timeline of the tweets by Sentiment\n",
    "plt.figure(figsize=[12,6])\n",
    "ax = sns.histplot(x='Date Created', data=df,hue='Sentiment', palette=['blue','green','red'])\n"
   ]
  },
  {
   "cell_type": "code",
   "execution_count": 8,
   "id": "136ed2f9",
   "metadata": {},
   "outputs": [
    {
     "data": {
      "text/plain": [
       "2022    22524\n",
       "Name: Date Created, dtype: int64"
      ]
     },
     "metadata": {},
     "output_type": "display_data"
    },
    {
     "data": {
      "text/plain": [
       "11    22524\n",
       "Name: Date Created, dtype: int64"
      ]
     },
     "metadata": {},
     "output_type": "display_data"
    },
    {
     "data": {
      "text/plain": [
       "20    22524\n",
       "Name: Date Created, dtype: int64"
      ]
     },
     "metadata": {},
     "output_type": "display_data"
    },
    {
     "data": {
      "text/plain": [
       "UTC    22524\n",
       "Name: Date Created, dtype: int64"
      ]
     },
     "metadata": {},
     "output_type": "display_data"
    }
   ],
   "source": [
    "#It seems like all the tweets have been posted in the same day\n",
    "years = df['Date Created'].apply(lambda date:date.year)\n",
    "months = df['Date Created'].apply(lambda date:date.month)\n",
    "days = df['Date Created'].apply(lambda date:date.day)\n",
    "tz = df['Date Created'].apply(lambda date:date.tz)\n",
    "\n",
    "display(years.value_counts())\n",
    "display(months.value_counts())\n",
    "display(days.value_counts())\n",
    "display(tz.value_counts())"
   ]
  },
  {
   "cell_type": "code",
   "execution_count": 9,
   "id": "eb8c5d03",
   "metadata": {},
   "outputs": [],
   "source": [
    "#All those tweets happened in the same day and were recorded with same timezone\n",
    "#We replace the time stamp to only contain the hour, minute and time\n",
    "\n",
    "df['time_posted'] = df['Date Created'].apply(lambda date: date.hour +(date.minute/60 + date.second/3600))"
   ]
  },
  {
   "cell_type": "code",
   "execution_count": 10,
   "id": "03b9756e",
   "metadata": {},
   "outputs": [
    {
     "data": {
      "text/plain": [
       "<matplotlib.legend.Legend at 0x7f91842fe6e0>"
      ]
     },
     "execution_count": 10,
     "metadata": {},
     "output_type": "execute_result"
    },
    {
     "data": {
      "image/png": "[encoded data removed]",
      "text/plain": [
       "<Figure size 1200x600 with 1 Axes>"
      ]
     },
     "metadata": {},
     "output_type": "display_data"
    }
   ],
   "source": [
    "plt.figure(figsize=[12,6])\n",
    "ax = sns.histplot(x='time_posted', data=df, hue='Sentiment', palette=['blue','green','red'])\n",
    "plt.xlim(0,24)\n",
    "plt.xticks(np.arange(0,25,1))\n",
    "plt.xlabel('Time tweet was posted (24h)')\n",
    "plt.title('Tweets with the #FIFA2022 World Cup posted Nov 20th 2022')\n",
    "ax.legend(['Positive','Negative','Neutral'],title = 'Sentiment')"
   ]
  },
  {
   "cell_type": "code",
   "execution_count": 11,
   "id": "f6832d9c",
   "metadata": {},
   "outputs": [],
   "source": [
    "#It seems something happened during 16:00 of that day that increased the number talking about the soccer games.\n",
    "#This was actually during the first game of the Cup between Qatar and Ecuador which started at 16:02.\n",
    "#Ecuador scored twice at 16:18 and 16:33 which is about when the spike happened\n",
    "#The time of the tweet will not happen find a pattern because they all increased by a lot during that time."
   ]
  },
  {
   "cell_type": "code",
   "execution_count": 12,
   "id": "d066a76f",
   "metadata": {},
   "outputs": [],
   "source": [
    "#We do not need the id of the tweet. There is no correlation to the sentiment\n",
    "df.drop('Unnamed: 0',axis=1, inplace=True)"
   ]
  },
  {
   "cell_type": "code",
   "execution_count": 13,
   "id": "c8534b48",
   "metadata": {},
   "outputs": [
    {
     "data": {
      "text/plain": [
       "Source of Tweet\n",
       "Twitter for iPhone          9507\n",
       "Twitter for Android         6820\n",
       "Twitter Web App             4505\n",
       "TweetDeck                    386\n",
       "Twitter for iPad             240\n",
       "Qualtrics Social Connect     165\n",
       "Hootsuite Inc.               146\n",
       "Buffer                        71\n",
       "Instagram                     62\n",
       "Tweetbot for iΟS              52\n",
       "dtype: int64"
      ]
     },
     "execution_count": 13,
     "metadata": {},
     "output_type": "execute_result"
    }
   ],
   "source": [
    "#We check the source of the tweet\n",
    "df.value_counts('Source of Tweet').head(10)\n",
    "#sns.countplot(data=df, x='Source of Tweet')"
   ]
  },
  {
   "cell_type": "code",
   "execution_count": 14,
   "id": "093b844b",
   "metadata": {},
   "outputs": [],
   "source": [
    "#From over 22k tweets only 7 platforms have over 100 tweets.\n",
    "#We will filter our data to only include those 7 platforms\n",
    "top_source = ['Twitter for iPhone','Twitter for Android','Twitter Web App','TweetDeck','Twitter for iPad',\n",
    "              'Qualtrics Social Connect','Hootsuite Inc.']\n",
    "              \n",
    "#df = df[df['Source of Tweet'] in top_source\n",
    "filtered_df = pd.DataFrame()\n",
    "for source in top_source:\n",
    "    filtered_df = pd.concat([filtered_df,df[df['Source of Tweet']==source]],axis=0)"
   ]
  },
  {
   "cell_type": "code",
   "execution_count": 15,
   "id": "57f4ed2e",
   "metadata": {},
   "outputs": [],
   "source": [
    "df2 = filtered_df.copy()"
   ]
  },
  {
   "cell_type": "code",
   "execution_count": 16,
   "id": "2a2cc7db",
   "metadata": {},
   "outputs": [
    {
     "data": {
      "text/plain": [
       "21769"
      ]
     },
     "metadata": {},
     "output_type": "display_data"
    },
    {
     "data": {
      "text/plain": [
       "Source of Tweet\n",
       "Twitter for iPhone          9507\n",
       "Twitter for Android         6820\n",
       "Twitter Web App             4505\n",
       "TweetDeck                    386\n",
       "Twitter for iPad             240\n",
       "Qualtrics Social Connect     165\n",
       "Hootsuite Inc.               146\n",
       "dtype: int64"
      ]
     },
     "execution_count": 16,
     "metadata": {},
     "output_type": "execute_result"
    }
   ],
   "source": [
    "display(len(df2))\n",
    "df2.value_counts('Source of Tweet').head(10)"
   ]
  },
  {
   "cell_type": "code",
   "execution_count": 17,
   "id": "3d226e91",
   "metadata": {},
   "outputs": [
    {
     "data": {
      "text/plain": [
       "<AxesSubplot: xlabel='Source of Tweet', ylabel='count'>"
      ]
     },
     "execution_count": 17,
     "metadata": {},
     "output_type": "execute_result"
    },
    {
     "data": {
      "image/png": "[encoded data removed]",
      "text/plain": [
       "<Figure size 1200x800 with 1 Axes>"
      ]
     },
     "metadata": {},
     "output_type": "display_data"
    }
   ],
   "source": [
    "plt.figure(figsize=[12,8])\n",
    "sns.countplot(x='Source of Tweet', data=df2, hue='Sentiment')"
   ]
  },
  {
   "cell_type": "code",
   "execution_count": 18,
   "id": "a17d1f5a",
   "metadata": {},
   "outputs": [],
   "source": [
    "#It seems like the ratio of negative:positive:neutral sentiments \n",
    "#do not change much on the 4 most important sources and the ret barely contributes.\n",
    "#We will keep using all of the dataframe"
   ]
  },
  {
   "cell_type": "code",
   "execution_count": 19,
   "id": "14e3ea04",
   "metadata": {},
   "outputs": [
    {
     "data": {
      "text/html": [
       "<div>\n",
       "<style scoped>\n",
       "    .dataframe tbody tr th:only-of-type {\n",
       "        vertical-align: middle;\n",
       "    }\n",
       "\n",
       "    .dataframe tbody tr th {\n",
       "        vertical-align: top;\n",
       "    }\n",
       "\n",
       "    .dataframe thead th {\n",
       "        text-align: right;\n",
       "    }\n",
       "</style>\n",
       "<table border=\"1\" class=\"dataframe\">\n",
       "  <thead>\n",
       "    <tr style=\"text-align: right;\">\n",
       "      <th></th>\n",
       "      <th>Date Created</th>\n",
       "      <th>Number of Likes</th>\n",
       "      <th>Source of Tweet</th>\n",
       "      <th>Tweet</th>\n",
       "      <th>Sentiment</th>\n",
       "      <th>time_posted</th>\n",
       "    </tr>\n",
       "  </thead>\n",
       "  <tbody>\n",
       "    <tr>\n",
       "      <th>0</th>\n",
       "      <td>2022-11-20 23:59:21+00:00</td>\n",
       "      <td>4</td>\n",
       "      <td>Twitter Web App</td>\n",
       "      <td>What are we drinking today @TucanTribe \\n@MadB...</td>\n",
       "      <td>neutral</td>\n",
       "      <td>23.989167</td>\n",
       "    </tr>\n",
       "    <tr>\n",
       "      <th>1</th>\n",
       "      <td>2022-11-20 23:59:01+00:00</td>\n",
       "      <td>3</td>\n",
       "      <td>Twitter for iPhone</td>\n",
       "      <td>Amazing @CanadaSoccerEN  #WorldCup2022 launch ...</td>\n",
       "      <td>positive</td>\n",
       "      <td>23.983611</td>\n",
       "    </tr>\n",
       "    <tr>\n",
       "      <th>2</th>\n",
       "      <td>2022-11-20 23:58:41+00:00</td>\n",
       "      <td>1</td>\n",
       "      <td>Twitter for iPhone</td>\n",
       "      <td>Worth reading while watching #WorldCup2022 htt...</td>\n",
       "      <td>positive</td>\n",
       "      <td>23.978056</td>\n",
       "    </tr>\n",
       "    <tr>\n",
       "      <th>3</th>\n",
       "      <td>2022-11-20 23:58:33+00:00</td>\n",
       "      <td>1</td>\n",
       "      <td>Twitter Web App</td>\n",
       "      <td>Golden Maknae shinning bright\\n\\nhttps://t.co/...</td>\n",
       "      <td>positive</td>\n",
       "      <td>23.975833</td>\n",
       "    </tr>\n",
       "    <tr>\n",
       "      <th>4</th>\n",
       "      <td>2022-11-20 23:58:28+00:00</td>\n",
       "      <td>0</td>\n",
       "      <td>Twitter for Android</td>\n",
       "      <td>If the BBC cares so much about human rights, h...</td>\n",
       "      <td>negative</td>\n",
       "      <td>23.974444</td>\n",
       "    </tr>\n",
       "  </tbody>\n",
       "</table>\n",
       "</div>"
      ],
      "text/plain": [
       "               Date Created  Number of Likes      Source of Tweet  \\\n",
       "0 2022-11-20 23:59:21+00:00                4      Twitter Web App   \n",
       "1 2022-11-20 23:59:01+00:00                3   Twitter for iPhone   \n",
       "2 2022-11-20 23:58:41+00:00                1   Twitter for iPhone   \n",
       "3 2022-11-20 23:58:33+00:00                1      Twitter Web App   \n",
       "4 2022-11-20 23:58:28+00:00                0  Twitter for Android   \n",
       "\n",
       "                                               Tweet Sentiment  time_posted  \n",
       "0  What are we drinking today @TucanTribe \\n@MadB...   neutral    23.989167  \n",
       "1  Amazing @CanadaSoccerEN  #WorldCup2022 launch ...  positive    23.983611  \n",
       "2  Worth reading while watching #WorldCup2022 htt...  positive    23.978056  \n",
       "3  Golden Maknae shinning bright\\n\\nhttps://t.co/...  positive    23.975833  \n",
       "4  If the BBC cares so much about human rights, h...  negative    23.974444  "
      ]
     },
     "execution_count": 19,
     "metadata": {},
     "output_type": "execute_result"
    }
   ],
   "source": [
    "#From the initial 22524 data points, we now have 21796. \n",
    "#We deleted less than 1000 to clean up the important platforms\n",
    "\n",
    "#We now create dummies for this feature\n",
    "\n",
    "#dummies = pd.get_dummies(df['Source of Tweet'], drop_first=True)\n",
    "#df = pd.concat([df,dummies],axis=1)\n",
    "df.head()"
   ]
  },
  {
   "cell_type": "code",
   "execution_count": 20,
   "id": "e866287c",
   "metadata": {},
   "outputs": [],
   "source": [
    "#We now drop the two columns we do not need anymore\n",
    "#df.drop('Source of Tweet', axis=1, inplace=True)\n",
    "df.drop('Date Created', axis=1, inplace=True)"
   ]
  },
  {
   "cell_type": "code",
   "execution_count": 21,
   "id": "87d2dc57",
   "metadata": {},
   "outputs": [
    {
     "data": {
      "text/html": [
       "<div>\n",
       "<style scoped>\n",
       "    .dataframe tbody tr th:only-of-type {\n",
       "        vertical-align: middle;\n",
       "    }\n",
       "\n",
       "    .dataframe tbody tr th {\n",
       "        vertical-align: top;\n",
       "    }\n",
       "\n",
       "    .dataframe thead th {\n",
       "        text-align: right;\n",
       "    }\n",
       "</style>\n",
       "<table border=\"1\" class=\"dataframe\">\n",
       "  <thead>\n",
       "    <tr style=\"text-align: right;\">\n",
       "      <th></th>\n",
       "      <th>Number of Likes</th>\n",
       "      <th>Source of Tweet</th>\n",
       "      <th>Tweet</th>\n",
       "      <th>Sentiment</th>\n",
       "      <th>time_posted</th>\n",
       "      <th>length</th>\n",
       "    </tr>\n",
       "  </thead>\n",
       "  <tbody>\n",
       "    <tr>\n",
       "      <th>17249</th>\n",
       "      <td>0</td>\n",
       "      <td>Twitter for iPhone</td>\n",
       "      <td>@ubctvuganda #WorldCup2022 studio. Beautiful @...</td>\n",
       "      <td>positive</td>\n",
       "      <td>12.815833</td>\n",
       "      <td>101</td>\n",
       "    </tr>\n",
       "    <tr>\n",
       "      <th>18533</th>\n",
       "      <td>2</td>\n",
       "      <td>Twitter for Android</td>\n",
       "      <td>Game one of the world cup #WorldCup2022 is on ...</td>\n",
       "      <td>positive</td>\n",
       "      <td>11.398333</td>\n",
       "      <td>223</td>\n",
       "    </tr>\n",
       "    <tr>\n",
       "      <th>17237</th>\n",
       "      <td>0</td>\n",
       "      <td>Twitter Web App</td>\n",
       "      <td>@TheAthletic That is a goodlooking man  ☺️ \\n\\...</td>\n",
       "      <td>positive</td>\n",
       "      <td>12.825278</td>\n",
       "      <td>75</td>\n",
       "    </tr>\n",
       "    <tr>\n",
       "      <th>6122</th>\n",
       "      <td>0</td>\n",
       "      <td>Echofon</td>\n",
       "      <td>and NOW it’s officially the first #WorldCup202...</td>\n",
       "      <td>positive</td>\n",
       "      <td>16.334444</td>\n",
       "      <td>52</td>\n",
       "    </tr>\n",
       "    <tr>\n",
       "      <th>2233</th>\n",
       "      <td>0</td>\n",
       "      <td>Twitter for iPhone</td>\n",
       "      <td>Drug money &amp;gt; Oil money 🌚\\n\\n#WorldCup #Worl...</td>\n",
       "      <td>neutral</td>\n",
       "      <td>18.238056</td>\n",
       "      <td>80</td>\n",
       "    </tr>\n",
       "  </tbody>\n",
       "</table>\n",
       "</div>"
      ],
      "text/plain": [
       "       Number of Likes      Source of Tweet  \\\n",
       "17249                0   Twitter for iPhone   \n",
       "18533                2  Twitter for Android   \n",
       "17237                0      Twitter Web App   \n",
       "6122                 0              Echofon   \n",
       "2233                 0   Twitter for iPhone   \n",
       "\n",
       "                                                   Tweet Sentiment  \\\n",
       "17249  @ubctvuganda #WorldCup2022 studio. Beautiful @...  positive   \n",
       "18533  Game one of the world cup #WorldCup2022 is on ...  positive   \n",
       "17237  @TheAthletic That is a goodlooking man  ☺️ \\n\\...  positive   \n",
       "6122   and NOW it’s officially the first #WorldCup202...  positive   \n",
       "2233   Drug money &gt; Oil money 🌚\\n\\n#WorldCup #Worl...   neutral   \n",
       "\n",
       "       time_posted  length  \n",
       "17249    12.815833     101  \n",
       "18533    11.398333     223  \n",
       "17237    12.825278      75  \n",
       "6122     16.334444      52  \n",
       "2233     18.238056      80  "
      ]
     },
     "execution_count": 21,
     "metadata": {},
     "output_type": "execute_result"
    }
   ],
   "source": [
    "#Before we start preprocessing our tweets we will add a length feature with the number of characters in our message\n",
    "df['length'] = df['Tweet'].apply(len)\n",
    "df = df.sample(frac=1)\n",
    "df.head()"
   ]
  },
  {
   "cell_type": "code",
   "execution_count": 22,
   "id": "04b3734d",
   "metadata": {},
   "outputs": [
    {
     "data": {
      "text/plain": [
       "<AxesSubplot: xlabel='length', ylabel='Count'>"
      ]
     },
     "execution_count": 22,
     "metadata": {},
     "output_type": "execute_result"
    },
    {
     "data": {
      "image/png": "[encoded data removed]",
      "text/plain": [
       "<Figure size 640x480 with 1 Axes>"
      ]
     },
     "metadata": {},
     "output_type": "display_data"
    }
   ],
   "source": [
    "sns.histplot(x='length',data=df,hue='Sentiment', kde=True)"
   ]
  },
  {
   "cell_type": "code",
   "execution_count": 23,
   "id": "244c2944",
   "metadata": {},
   "outputs": [],
   "source": [
    "#All messages follow approximately the same distribution\n",
    "#Now all we need to do is use NLP to work on our model\n",
    "import nltk"
   ]
  },
  {
   "cell_type": "code",
   "execution_count": 24,
   "id": "e7aa257f",
   "metadata": {},
   "outputs": [],
   "source": [
    "#We used the funtion suggested bu Kaggle to preprocess\n",
    "def preprocess(text):\n",
    "    new_text = []\n",
    "    for t in text.split(\" \"):\n",
    "        t = '@user' if t.startswith('@') and len(t) > 1 else t\n",
    "        t = 'http' if t.startswith('http') else t\n",
    "        new_text.append(t)\n",
    "    return \" \".join(new_text)"
   ]
  },
  {
   "cell_type": "code",
   "execution_count": 25,
   "id": "1d3c775a",
   "metadata": {},
   "outputs": [],
   "source": [
    "df['Tweet'] = df['Tweet'].apply(preprocess)"
   ]
  },
  {
   "cell_type": "code",
   "execution_count": 26,
   "id": "f984fc16",
   "metadata": {},
   "outputs": [],
   "source": [
    "from nltk.corpus import stopwords\n",
    "import string"
   ]
  },
  {
   "cell_type": "code",
   "execution_count": 27,
   "id": "e589b1b9",
   "metadata": {},
   "outputs": [],
   "source": [
    "#Cleaning punctuation and stopwords\n",
    "def text_process(tweet):\n",
    "    \"\"\"\n",
    "    1. Removes punctuation\n",
    "    2. Removes stopwords\n",
    "    3. Returns list of clean words\n",
    "    \"\"\"\n",
    "    no_punc = [char for char in tweet if char not in string.punctuation]\n",
    "    no_punc = ''.join(no_punc)\n",
    "    \n",
    "    return [word for word in no_punc.split() if word.lower() not in stopwords.words('english')]\n",
    "    "
   ]
  },
  {
   "cell_type": "code",
   "execution_count": 28,
   "id": "06b4a253",
   "metadata": {},
   "outputs": [
    {
     "data": {
      "text/plain": [
       "17249    [user, WorldCup2022, studio, Beautiful, user, ...\n",
       "18533    [Game, one, world, cup, WorldCup2022, tonight,...\n",
       "17237    [user, goodlooking, man, ☺️, Football, WorldCu...\n",
       "6122         [it’s, officially, first, WorldCup2022, goal]\n",
       "2233     [Drug, money, gt, Oil, money, 🌚, WorldCup, Wor...\n",
       "Name: Tweet, dtype: object"
      ]
     },
     "execution_count": 28,
     "metadata": {},
     "output_type": "execute_result"
    }
   ],
   "source": [
    "df['Tweet'].head().apply(text_process)"
   ]
  },
  {
   "cell_type": "code",
   "execution_count": 29,
   "id": "dfd561b7",
   "metadata": {},
   "outputs": [],
   "source": [
    "#Start with the words vectorization by creating a bag of words (bow)\n",
    "from sklearn.feature_extraction.text import CountVectorizer"
   ]
  },
  {
   "cell_type": "code",
   "execution_count": 30,
   "id": "51032079",
   "metadata": {},
   "outputs": [],
   "source": [
    "bow_transformer = CountVectorizer(analyzer=text_process).fit(df['Tweet'])"
   ]
  },
  {
   "cell_type": "code",
   "execution_count": 31,
   "id": "b14f2239",
   "metadata": {},
   "outputs": [],
   "source": [
    "tweets_bow = bow_transformer.transform(df['Tweet'])"
   ]
  },
  {
   "cell_type": "code",
   "execution_count": 32,
   "id": "5366ab39",
   "metadata": {},
   "outputs": [
    {
     "data": {
      "text/plain": [
       "(22524, 35733)"
      ]
     },
     "execution_count": 32,
     "metadata": {},
     "output_type": "execute_result"
    }
   ],
   "source": [
    "tweets_bow.shape"
   ]
  },
  {
   "cell_type": "code",
   "execution_count": 33,
   "id": "70974774",
   "metadata": {},
   "outputs": [
    {
     "data": {
      "text/plain": [
       "273292"
      ]
     },
     "execution_count": 33,
     "metadata": {},
     "output_type": "execute_result"
    }
   ],
   "source": [
    "tweets_bow.nnz"
   ]
  },
  {
   "cell_type": "code",
   "execution_count": 34,
   "id": "9191d436",
   "metadata": {},
   "outputs": [
    {
     "name": "stdout",
     "output_type": "stream",
     "text": [
      "Percentage of entries that are nonzero in our sparse matrix is 0.034%\n"
     ]
    }
   ],
   "source": [
    "print(f'Percentage of entries that are nonzero in our sparse matrix is {round(100.*tweets_bow.nnz/(tweets_bow.shape[0]*tweets_bow.shape[1]),4)}%')"
   ]
  },
  {
   "cell_type": "code",
   "execution_count": 35,
   "id": "3b7f91f8",
   "metadata": {},
   "outputs": [],
   "source": [
    "#After vectorization we atribute a TFID score based on the words contained in each message\n",
    "from sklearn.feature_extraction.text import TfidfTransformer"
   ]
  },
  {
   "cell_type": "code",
   "execution_count": 36,
   "id": "01debbf3",
   "metadata": {},
   "outputs": [],
   "source": [
    "tfidf_trans = TfidfTransformer().fit(tweets_bow)"
   ]
  },
  {
   "cell_type": "code",
   "execution_count": 37,
   "id": "12aec947",
   "metadata": {},
   "outputs": [],
   "source": [
    "messages_tfidf = tfidf_trans.transform(tweets_bow)"
   ]
  },
  {
   "cell_type": "code",
   "execution_count": 38,
   "id": "49900808",
   "metadata": {},
   "outputs": [],
   "source": [
    "#Starting our model by dividing the dataset into tran and test in order to obtain metrics of our methods.\n",
    "from sklearn.model_selection import train_test_split"
   ]
  },
  {
   "cell_type": "code",
   "execution_count": 39,
   "id": "b492add2",
   "metadata": {},
   "outputs": [],
   "source": [
    "tweet_train,tweet_test,sent_train,sent_test = train_test_split(df['Tweet'],df['Sentiment'],\n",
    "                                                               test_size=0.2, random_state=999)"
   ]
  },
  {
   "cell_type": "code",
   "execution_count": 40,
   "id": "7cf8a526",
   "metadata": {},
   "outputs": [],
   "source": [
    "#Pipeline is a great way to automatize everything we did before in an easy way.\n",
    "from sklearn.pipeline import Pipeline"
   ]
  },
  {
   "cell_type": "code",
   "execution_count": 41,
   "id": "ee2f3004",
   "metadata": {},
   "outputs": [],
   "source": [
    "from sklearn.ensemble import RandomForestClassifier\n",
    "from sklearn.naive_bayes import MultinomialNB, BernoulliNB"
   ]
  },
  {
   "cell_type": "code",
   "execution_count": 42,
   "id": "dea0e9fa",
   "metadata": {},
   "outputs": [],
   "source": [
    "pipeline_multi = Pipeline([\n",
    "    ('bow',CountVectorizer(analyzer=text_process)),\n",
    "    ('tfidf',TfidfTransformer()),\n",
    "    ('classifier', MultinomialNB())\n",
    "])\n",
    "\n",
    "pipeline_bern = Pipeline([\n",
    "    ('bow',CountVectorizer(analyzer=text_process)),\n",
    "    ('tfidf',TfidfTransformer()),\n",
    "    ('classifier', BernoulliNB())\n",
    "])\n",
    "\n",
    "pipeline_RFClass = Pipeline([\n",
    "    ('bow',CountVectorizer(analyzer=text_process)),\n",
    "    ('tfidf',TfidfTransformer()),\n",
    "    ('classifier', RandomForestClassifier(n_estimators=500))\n",
    "])"
   ]
  },
  {
   "cell_type": "code",
   "execution_count": 43,
   "id": "1024d500",
   "metadata": {},
   "outputs": [
    {
     "data": {
      "text/html": [
       "<style>#sk-container-id-1 {color: black;background-color: white;}#sk-container-id-1 pre{padding: 0;}#sk-container-id-1 div.sk-toggleable {background-color: white;}#sk-container-id-1 label.sk-toggleable__label {cursor: pointer;display: block;width: 100%;margin-bottom: 0;padding: 0.3em;box-sizing: border-box;text-align: center;}#sk-container-id-1 label.sk-toggleable__label-arrow:before {content: \"▸\";float: left;margin-right: 0.25em;color: #696969;}#sk-container-id-1 label.sk-toggleable__label-arrow:hover:before {color: black;}#sk-container-id-1 div.sk-estimator:hover label.sk-toggleable__label-arrow:before {color: black;}#sk-container-id-1 div.sk-toggleable__content {max-height: 0;max-width: 0;overflow: hidden;text-align: left;background-color: #f0f8ff;}#sk-container-id-1 div.sk-toggleable__content pre {margin: 0.2em;color: black;border-radius: 0.25em;background-color: #f0f8ff;}#sk-container-id-1 input.sk-toggleable__control:checked~div.sk-toggleable__content {max-height: 200px;max-width: 100%;overflow: auto;}#sk-container-id-1 input.sk-toggleable__control:checked~label.sk-toggleable__label-arrow:before {content: \"▾\";}#sk-container-id-1 div.sk-estimator input.sk-toggleable__control:checked~label.sk-toggleable__label {background-color: #d4ebff;}#sk-container-id-1 div.sk-label input.sk-toggleable__control:checked~label.sk-toggleable__label {background-color: #d4ebff;}#sk-container-id-1 input.sk-hidden--visually {border: 0;clip: rect(1px 1px 1px 1px);clip: rect(1px, 1px, 1px, 1px);height: 1px;margin: -1px;overflow: hidden;padding: 0;position: absolute;width: 1px;}#sk-container-id-1 div.sk-estimator {font-family: monospace;background-color: #f0f8ff;border: 1px dotted black;border-radius: 0.25em;box-sizing: border-box;margin-bottom: 0.5em;}#sk-container-id-1 div.sk-estimator:hover {background-color: #d4ebff;}#sk-container-id-1 div.sk-parallel-item::after {content: \"\";width: 100%;border-bottom: 1px solid gray;flex-grow: 1;}#sk-container-id-1 div.sk-label:hover label.sk-toggleable__label {background-color: #d4ebff;}#sk-container-id-1 div.sk-serial::before {content: \"\";position: absolute;border-left: 1px solid gray;box-sizing: border-box;top: 0;bottom: 0;left: 50%;z-index: 0;}#sk-container-id-1 div.sk-serial {display: flex;flex-direction: column;align-items: center;background-color: white;padding-right: 0.2em;padding-left: 0.2em;position: relative;}#sk-container-id-1 div.sk-item {position: relative;z-index: 1;}#sk-container-id-1 div.sk-parallel {display: flex;align-items: stretch;justify-content: center;background-color: white;position: relative;}#sk-container-id-1 div.sk-item::before, #sk-container-id-1 div.sk-parallel-item::before {content: \"\";position: absolute;border-left: 1px solid gray;box-sizing: border-box;top: 0;bottom: 0;left: 50%;z-index: -1;}#sk-container-id-1 div.sk-parallel-item {display: flex;flex-direction: column;z-index: 1;position: relative;background-color: white;}#sk-container-id-1 div.sk-parallel-item:first-child::after {align-self: flex-end;width: 50%;}#sk-container-id-1 div.sk-parallel-item:last-child::after {align-self: flex-start;width: 50%;}#sk-container-id-1 div.sk-parallel-item:only-child::after {width: 0;}#sk-container-id-1 div.sk-dashed-wrapped {border: 1px dashed gray;margin: 0 0.4em 0.5em 0.4em;box-sizing: border-box;padding-bottom: 0.4em;background-color: white;}#sk-container-id-1 div.sk-label label {font-family: monospace;font-weight: bold;display: inline-block;line-height: 1.2em;}#sk-container-id-1 div.sk-label-container {text-align: center;}#sk-container-id-1 div.sk-container {/* jupyter's `normalize.less` sets `[hidden] { display: none; }` but bootstrap.min.css set `[hidden] { display: none !important; }` so we also need the `!important` here to be able to override the default hidden behavior on the sphinx rendered scikit-learn.org. See: https://github.com/scikit-learn/scikit-learn/issues/21755 */display: inline-block !important;position: relative;}#sk-container-id-1 div.sk-text-repr-fallback {display: none;}</style><div id=\"sk-container-id-1\" class=\"sk-top-container\"><div class=\"sk-text-repr-fallback\"><pre>Pipeline(steps=[(&#x27;bow&#x27;,\n",
       "                 CountVectorizer(analyzer=&lt;function text_process at 0x7f916bef5090&gt;)),\n",
       "                (&#x27;tfidf&#x27;, TfidfTransformer()),\n",
       "                (&#x27;classifier&#x27;, RandomForestClassifier(n_estimators=500))])</pre><b>In a Jupyter environment, please rerun this cell to show the HTML representation or trust the notebook. <br />On GitHub, the HTML representation is unable to render, please try loading this page with nbviewer.org.</b></div><div class=\"sk-container\" hidden><div class=\"sk-item sk-dashed-wrapped\"><div class=\"sk-label-container\"><div class=\"sk-label sk-toggleable\"><input class=\"sk-toggleable__control sk-hidden--visually\" id=\"sk-estimator-id-1\" type=\"checkbox\" ><label for=\"sk-estimator-id-1\" class=\"sk-toggleable__label sk-toggleable__label-arrow\">Pipeline</label><div class=\"sk-toggleable__content\"><pre>Pipeline(steps=[(&#x27;bow&#x27;,\n",
       "                 CountVectorizer(analyzer=&lt;function text_process at 0x7f916bef5090&gt;)),\n",
       "                (&#x27;tfidf&#x27;, TfidfTransformer()),\n",
       "                (&#x27;classifier&#x27;, RandomForestClassifier(n_estimators=500))])</pre></div></div></div><div class=\"sk-serial\"><div class=\"sk-item\"><div class=\"sk-estimator sk-toggleable\"><input class=\"sk-toggleable__control sk-hidden--visually\" id=\"sk-estimator-id-2\" type=\"checkbox\" ><label for=\"sk-estimator-id-2\" class=\"sk-toggleable__label sk-toggleable__label-arrow\">CountVectorizer</label><div class=\"sk-toggleable__content\"><pre>CountVectorizer(analyzer=&lt;function text_process at 0x7f916bef5090&gt;)</pre></div></div></div><div class=\"sk-item\"><div class=\"sk-estimator sk-toggleable\"><input class=\"sk-toggleable__control sk-hidden--visually\" id=\"sk-estimator-id-3\" type=\"checkbox\" ><label for=\"sk-estimator-id-3\" class=\"sk-toggleable__label sk-toggleable__label-arrow\">TfidfTransformer</label><div class=\"sk-toggleable__content\"><pre>TfidfTransformer()</pre></div></div></div><div class=\"sk-item\"><div class=\"sk-estimator sk-toggleable\"><input class=\"sk-toggleable__control sk-hidden--visually\" id=\"sk-estimator-id-4\" type=\"checkbox\" ><label for=\"sk-estimator-id-4\" class=\"sk-toggleable__label sk-toggleable__label-arrow\">RandomForestClassifier</label><div class=\"sk-toggleable__content\"><pre>RandomForestClassifier(n_estimators=500)</pre></div></div></div></div></div></div></div>"
      ],
      "text/plain": [
       "Pipeline(steps=[('bow',\n",
       "                 CountVectorizer(analyzer=<function text_process at 0x7f916bef5090>)),\n",
       "                ('tfidf', TfidfTransformer()),\n",
       "                ('classifier', RandomForestClassifier(n_estimators=500))])"
      ]
     },
     "execution_count": 43,
     "metadata": {},
     "output_type": "execute_result"
    }
   ],
   "source": [
    "pipeline_multi.fit(tweet_train,sent_train)\n",
    "pipeline_bern.fit(tweet_train,sent_train)\n",
    "pipeline_RFClass.fit(tweet_train,sent_train)"
   ]
  },
  {
   "cell_type": "code",
   "execution_count": 44,
   "id": "04159f46",
   "metadata": {},
   "outputs": [],
   "source": [
    "predic_multi = pipeline_multi.predict(tweet_test)\n",
    "predic_bern = pipeline_bern.predict(tweet_test)\n",
    "predic_RF = pipeline_RFClass.predict(tweet_test)"
   ]
  },
  {
   "cell_type": "code",
   "execution_count": 45,
   "id": "0d5064bd",
   "metadata": {},
   "outputs": [],
   "source": [
    "from sklearn.metrics import classification_report"
   ]
  },
  {
   "cell_type": "code",
   "execution_count": 46,
   "id": "a8072244",
   "metadata": {},
   "outputs": [
    {
     "name": "stdout",
     "output_type": "stream",
     "text": [
      "Multinomial Naive Bayes results\n",
      "              precision    recall  f1-score   support\n",
      "\n",
      "    negative       0.80      0.61      0.69      1180\n",
      "     neutral       0.64      0.71      0.68      1584\n",
      "    positive       0.73      0.78      0.75      1741\n",
      "\n",
      "    accuracy                           0.71      4505\n",
      "   macro avg       0.72      0.70      0.71      4505\n",
      "weighted avg       0.72      0.71      0.71      4505\n",
      "\n",
      "Bernoulli Naive Bayes results\n",
      "              precision    recall  f1-score   support\n",
      "\n",
      "    negative       0.74      0.68      0.71      1180\n",
      "     neutral       0.65      0.67      0.66      1584\n",
      "    positive       0.74      0.76      0.75      1741\n",
      "\n",
      "    accuracy                           0.71      4505\n",
      "   macro avg       0.71      0.70      0.70      4505\n",
      "weighted avg       0.71      0.71      0.71      4505\n",
      "\n",
      "Random Forest results\n",
      "              precision    recall  f1-score   support\n",
      "\n",
      "    negative       0.75      0.59      0.66      1180\n",
      "     neutral       0.60      0.72      0.65      1584\n",
      "    positive       0.73      0.70      0.72      1741\n",
      "\n",
      "    accuracy                           0.68      4505\n",
      "   macro avg       0.69      0.67      0.68      4505\n",
      "weighted avg       0.69      0.68      0.68      4505\n",
      "\n"
     ]
    }
   ],
   "source": [
    "print('Multinomial Naive Bayes results')\n",
    "print(classification_report(sent_test,predic_multi))\n",
    "print('Bernoulli Naive Bayes results')\n",
    "print(classification_report(sent_test,predic_bern))\n",
    "print('Random Forest results')\n",
    "print(classification_report(sent_test,predic_RF))"
   ]
  },
  {
   "cell_type": "code",
   "execution_count": 47,
   "id": "932733e8",
   "metadata": {},
   "outputs": [],
   "source": [
    "#Naive Bayes methods did better than Random Forest overall"
   ]
  },
  {
   "cell_type": "code",
   "execution_count": null,
   "id": "d29a46c0",
   "metadata": {},
   "outputs": [],
   "source": []
  }
 ],
 "metadata": {
  "kernelspec": {
   "display_name": "Python 3 (ipykernel)",
   "language": "python",
   "name": "python3"
  },
  "language_info": {
   "codemirror_mode": {
    "name": "ipython",
    "version": 3
   },
   "file_extension": ".py",
   "mimetype": "text/x-python",
   "name": "python",
   "nbconvert_exporter": "python",
   "pygments_lexer": "ipython3",
   "version": "3.10.9"
  }
 },
 "nbformat": 4,
 "nbformat_minor": 5
}
